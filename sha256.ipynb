{
  "cells": [
    {
      "cell_type": "markdown",
      "metadata": {
        "id": "l6RmhgBdYuvL"
      },
      "source": [
        "# **Testes com SHA-256**\n"
      ]
    },
    {
      "cell_type": "markdown",
      "metadata": {
        "id": "aHxnVV-qaGJl"
      },
      "source": [
        "## **Importação das Bibliotecas**"
      ]
    },
    {
      "cell_type": "code",
      "execution_count": null,
      "metadata": {
        "colab": {
          "base_uri": "https://localhost:8080/"
        },
        "id": "_9hMIx9QVGdj",
        "outputId": "53eb44d9-3b53-4d8b-d125-0c9fe62d2ac4"
      },
      "outputs": [],
      "source": [
        "!pip install pycryptodome cryptography"
      ]
    },
    {
      "cell_type": "code",
      "execution_count": 12,
      "metadata": {
        "id": "tg3SwkHDCOoY"
      },
      "outputs": [],
      "source": [
        "import hashlib  # Biblioteca padrão do Python para hashing\n",
        "from Crypto.Hash import SHA256  # PyCryptodome para SHA-256\n",
        "from cryptography.hazmat.primitives import hashes  # Cryptography para SHA-256"
      ]
    },
    {
      "cell_type": "markdown",
      "metadata": {
        "id": "Xb1eqoljZmIY"
      },
      "source": [
        "## **Implementação de Testes**"
      ]
    },
    {
      "cell_type": "code",
      "execution_count": 13,
      "metadata": {
        "id": "TEUJHRrWYnaU"
      },
      "outputs": [],
      "source": [
        "def sha256_hashlib(data):\n",
        "    \"\"\"Hashing usando a biblioteca hashlib (padrão do Python).\"\"\"\n",
        "    return hashlib.sha256(data.encode()).hexdigest()"
      ]
    },
    {
      "cell_type": "code",
      "execution_count": 14,
      "metadata": {
        "id": "pMcQR1c4bx-N"
      },
      "outputs": [],
      "source": [
        "def sha256_pycryptodome(data):\n",
        "    \"\"\"Hashing usando PyCryptodome.\"\"\"\n",
        "    return SHA256.new(data.encode()).hexdigest()"
      ]
    },
    {
      "cell_type": "code",
      "execution_count": 15,
      "metadata": {
        "id": "2qYZP109b4gi"
      },
      "outputs": [],
      "source": [
        "def sha256_cryptography(data):\n",
        "    \"\"\"Hashing usando Cryptography.\"\"\"\n",
        "    digest = hashes.Hash(hashes.SHA256())\n",
        "    digest.update(data.encode())\n",
        "    return digest.finalize().hex()"
      ]
    },
    {
      "cell_type": "markdown",
      "metadata": {
        "id": "bkaCrNMJbKml"
      },
      "source": [
        "## **Execução de Testes**\n"
      ]
    },
    {
      "cell_type": "code",
      "execution_count": null,
      "metadata": {
        "colab": {
          "base_uri": "https://localhost:8080/"
        },
        "id": "eYTvK3zO9P6V",
        "outputId": "5596e97f-a018-472c-977b-32c3e599ddc7"
      },
      "outputs": [],
      "source": [
        "if __name__ == \"__main__\":\n",
        "    mensagem = \"Exemplo de teste\"\n",
        "    print(f\"hashlib:        {sha256_hashlib(mensagem)}\")\n",
        "    print(f\"pycryptodome:   {sha256_pycryptodome(mensagem)}\")\n",
        "    print(f\"cryptography:   {sha256_cryptography(mensagem)}\")\n"
      ]
    },
    {
      "cell_type": "code",
      "execution_count": null,
      "metadata": {
        "colab": {
          "base_uri": "https://localhost:8080/"
        },
        "id": "ezVlazGgF7bD",
        "outputId": "b36daa41-72f9-44e4-c55f-331a05739cfd"
      },
      "outputs": [],
      "source": [
        "if __name__ == \"__main__\":\n",
        "    mensagem = \"3ss3 t3st3 contém vári0s símb0l0s dif3r3nt3s!\"\n",
        "    print(f\"hashlib:        {sha256_hashlib(mensagem)}\")\n",
        "    print(f\"pycryptodome:   {sha256_pycryptodome(mensagem)}\")\n",
        "    print(f\"cryptography:   {sha256_cryptography(mensagem)}\")\n"
      ]
    },
    {
      "cell_type": "code",
      "execution_count": null,
      "metadata": {
        "colab": {
          "base_uri": "https://localhost:8080/"
        },
        "id": "rLbQmaYTHL9O",
        "outputId": "b36daa41-72f9-44e4-c55f-331a05739cfd"
      },
      "outputs": [],
      "source": [
        "if __name__ == \"__main__\":\n",
        "    mensagem = \"3ss3 é um t3st3 b3m gr@nd3 c0m v@ri0s símb0l0s! Incluínd0 núm3r0s (1234567890), c@r@ct3r3s 3sp3ci@is (!@#$%^&*), e l3tr@s m@iúscul@s e minúscul@s. 3st@ fr@se d3v3 s3r suficient3 p@r@ um b0m t3st3 d3 c0mp@r@çã0!\"\n",
        "\n",
        "    print(f\"hashlib:        {sha256_hashlib(mensagem)}\")\n",
        "    print(f\"pycryptodome:   {sha256_pycryptodome(mensagem)}\")\n",
        "    print(f\"cryptography:   {sha256_cryptography(mensagem)}\")\n"
      ]
    },
    {
      "cell_type": "code",
      "execution_count": null,
      "metadata": {},
      "outputs": [],
      "source": [
        "if __name__ == \"__main__\":\n",
        "    mensagem = \"Мензажем де тесте\"\n",
        "\n",
        "    print(f\"hashlib:        {sha256_hashlib(mensagem)}\")\n",
        "    print(f\"pycryptodome:   {sha256_pycryptodome(mensagem)}\")\n",
        "    print(f\"cryptography:   {sha256_cryptography(mensagem)}\")"
      ]
    },
    {
      "cell_type": "code",
      "execution_count": null,
      "metadata": {},
      "outputs": [],
      "source": [
        "if __name__ == \"__main__\":\n",
        "    mensagem = \"Μήνυμα δοκιμής\"\n",
        "\n",
        "    print(f\"hashlib:        {sha256_hashlib(mensagem)}\")\n",
        "    print(f\"pycryptodome:   {sha256_pycryptodome(mensagem)}\")\n",
        "    print(f\"cryptography:   {sha256_cryptography(mensagem)}\")\n"
      ]
    }
  ],
  "metadata": {
    "colab": {
      "provenance": []
    },
    "kernelspec": {
      "display_name": "Python 3",
      "name": "python3"
    },
    "language_info": {
      "name": "python"
    }
  },
  "nbformat": 4,
  "nbformat_minor": 0
}
