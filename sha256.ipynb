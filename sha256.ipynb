{
  "cells": [
    {
      "cell_type": "markdown",
      "metadata": {
        "id": "l6RmhgBdYuvL"
      },
      "source": [
        "# **Testes com SHA-256**\n"
      ]
    },
    {
      "cell_type": "markdown",
      "metadata": {
        "id": "aHxnVV-qaGJl"
      },
      "source": [
        "## **Importação das Bibliotecas**"
      ]
    },
    {
      "cell_type": "code",
      "execution_count": null,
      "metadata": {
        "colab": {
          "base_uri": "https://localhost:8080/"
        },
        "id": "_9hMIx9QVGdj",
        "outputId": "53eb44d9-3b53-4d8b-d125-0c9fe62d2ac4"
      },
      "outputs": [],
      "source": [
        "!pip install pycryptodome cryptography"
      ]
    },
    {
      "cell_type": "code",
      "execution_count": null,
      "metadata": {
        "id": "tg3SwkHDCOoY"
      },
      "outputs": [],
      "source": [
        "import hashlib  # Biblioteca padrão do Python para hashing\n",
        "from Crypto.Hash import SHA256  # PyCryptodome para SHA-256"
      ]
    },
    {
      "cell_type": "markdown",
      "metadata": {},
      "source": [
        "## **Lista de Frases para Teste**"
      ]
    },
    {
      "cell_type": "code",
      "execution_count": null,
      "metadata": {},
      "outputs": [],
      "source": [
        "itens = [\n",
        "    \"a\",\n",
        "    \"El Psy Kongroo\",\n",
        "    \"1.048596\",\n",
        "    \"お前はもう死んでいる.\",\n",
        "    \"Para obter algo, é preciso oferecer algo de igual valor.\",\n",
        "    \"Exemplo de teste\",\n",
        "    \"3ss3 t3st3 contém vári0s símb0l0s dif3r3nt3s!\",\n",
        "    \"3ss3 é um t3st3 b3m gr@nd3 c0m v@ri0s símb0l0s! Incluínd0 núm3r0s (1234567890), c@r@ct3r3s 3sp3ci@is (!@#$%^&*), e l3tr@s m@iúscul@s e minúscul@s. 3st@ fr@se d3v3 s3r suficient3 p@r@ um b0m t3st3 d3 c0mp@r@çã0!\",\n",
        "    \"Мензажем де тесте\",\n",
        "    \"Μήνυμα δοκιμής\"\n",
        "]"
      ]
    },
    {
      "cell_type": "markdown",
      "metadata": {
        "id": "Xb1eqoljZmIY"
      },
      "source": [
        "## **Implementação de Testes**"
      ]
    },
    {
      "cell_type": "code",
      "execution_count": null,
      "metadata": {
        "id": "TEUJHRrWYnaU"
      },
      "outputs": [],
      "source": [
        "# Função usando Hashlib\n",
        "def sha256_hashlib(data):\n",
        "    return hashlib.sha256(data.encode()).hexdigest()"
      ]
    },
    {
      "cell_type": "code",
      "execution_count": null,
      "metadata": {
        "id": "pMcQR1c4bx-N"
      },
      "outputs": [],
      "source": [
        "# Função usando PyCryptodome\n",
        "def sha256_pycryptodome(data):\n",
        "    return SHA256.new(data.encode()).hexdigest()"
      ]
    },
    {
      "cell_type": "markdown",
      "metadata": {
        "id": "bkaCrNMJbKml"
      },
      "source": [
        "## **Execução de Testes**"
      ]
    },
    {
      "cell_type": "code",
      "execution_count": null,
      "metadata": {},
      "outputs": [],
      "source": [
        "# Processar cada item da lista\n",
        "for item in itens:\n",
        "    hash_hl = sha256_hashlib(item)\n",
        "    hash_pc = sha256_pycryptodome(item)\n",
        "\n",
        "    print(\"Texto Original:\", item)\n",
        "    print(\"hashlib:       \", hash_hl)\n",
        "    print(\"PyCryptodome:  \", hash_pc)\n",
        "    print(\"=\" * 80)  # Separador para facilitar leitura"
      ]
    }
  ],
  "metadata": {
    "colab": {
      "provenance": []
    },
    "kernelspec": {
      "display_name": "Python 3",
      "name": "python3"
    },
    "language_info": {
      "name": "python"
    }
  },
  "nbformat": 4,
  "nbformat_minor": 0
}
