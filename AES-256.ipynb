{
 "cells": [
  {
   "cell_type": "markdown",
   "metadata": {
    "id": "-NHCWxlnnRnk"
   },
   "source": [
    "# Testes com AES-256"
   ]
  },
  {
   "cell_type": "markdown",
   "metadata": {
    "id": "w2Mv9N-enf86"
   },
   "source": [
    "## Importação das Bibliotecas"
   ]
  },
  {
   "cell_type": "code",
   "execution_count": null,
   "metadata": {
    "collapsed": true,
    "id": "HHeat7zQqmF7"
   },
   "outputs": [],
   "source": [
    "!pip install pycryptodome cryptography"
   ]
  },
  {
   "cell_type": "code",
   "execution_count": null,
   "metadata": {
    "executionInfo": {
     "elapsed": 674,
     "status": "ok",
     "timestamp": 1741800571453,
     "user": {
      "displayName": "Igor Silva",
      "userId": "01786139421783980823"
     },
     "user_tz": 180
    },
    "id": "oiEuLcdjq9n5"
   },
   "outputs": [],
   "source": [
    "from Crypto.Cipher import AES\n",
    "from Crypto.Util.Padding import pad, unpad\n",
    "from Crypto.Random import get_random_bytes\n",
    "\n",
    "from cryptography.hazmat.primitives.ciphers import Cipher, algorithms, modes\n",
    "from cryptography.hazmat.backends import default_backend\n",
    "\n",
    "import base64"
   ]
  },
  {
   "cell_type": "markdown",
   "metadata": {
    "id": "k5YsPWGfnqiI"
   },
   "source": [
    "# Geração da chave"
   ]
  },
  {
   "cell_type": "code",
   "execution_count": 14,
   "metadata": {
    "executionInfo": {
     "elapsed": 3,
     "status": "ok",
     "timestamp": 1741804739911,
     "user": {
      "displayName": "Igor Silva",
      "userId": "01786139421783980823"
     },
     "user_tz": 180
    },
    "id": "QUeuvWqouuG1"
   },
   "outputs": [],
   "source": [
    "# Gerar uma chave de 32 bytes (256 bits)\n",
    "aes_key = get_random_bytes(32)  # Gera uma chave aleatória"
   ]
  },
  {
   "cell_type": "markdown",
   "metadata": {
    "id": "JsS6y69Jn7Af"
   },
   "source": [
    "## Lista de frases para teste"
   ]
  },
  {
   "cell_type": "code",
   "execution_count": 15,
   "metadata": {
    "executionInfo": {
     "elapsed": 7,
     "status": "ok",
     "timestamp": 1741804740240,
     "user": {
      "displayName": "Igor Silva",
      "userId": "01786139421783980823"
     },
     "user_tz": 180
    },
    "id": "ah1JFBM_n5Xx"
   },
   "outputs": [],
   "source": [
    "itens = [\n",
    "    \"a\",\n",
    "    \"El Psy Kongroo\",\n",
    "    \"1.048596\",\n",
    "    \"お前はもう死んでいる.\",\n",
    "    \"Para obter algo, é preciso oferecer algo de igual valor.\"\n",
    "]"
   ]
  },
  {
   "cell_type": "markdown",
   "metadata": {
    "id": "EzEXaq0InwoV"
   },
   "source": [
    "## Funções para criptografar e descriptografar"
   ]
  },
  {
   "cell_type": "code",
   "execution_count": 16,
   "metadata": {
    "executionInfo": {
     "elapsed": 6,
     "status": "ok",
     "timestamp": 1741804740557,
     "user": {
      "displayName": "Igor Silva",
      "userId": "01786139421783980823"
     },
     "user_tz": 180
    },
    "id": "k3chPhsvq9mE"
   },
   "outputs": [],
   "source": [
    "#  Funções usando PyCryptodome\n",
    "def encrypt_pycryptodome(text, key):\n",
    "    iv = get_random_bytes(16)\n",
    "    cipher = AES.new(key, AES.MODE_CBC, iv)\n",
    "    ciphertext = cipher.encrypt(pad(text.encode(), AES.block_size))\n",
    "    return base64.b64encode(iv + ciphertext).decode()\n",
    "\n",
    "def decrypt_pycryptodome(ciphertext_b64, key):\n",
    "    ciphertext = base64.b64decode(ciphertext_b64)\n",
    "    iv = ciphertext[:16]\n",
    "    cipher = AES.new(key, AES.MODE_CBC, iv)\n",
    "    plaintext = unpad(cipher.decrypt(ciphertext[16:]), AES.block_size)\n",
    "    return plaintext.decode()\n",
    "\n",
    "\n",
    "#  Funções usando cryptography\n",
    "def encrypt_cryptography(text, key):\n",
    "    iv = get_random_bytes(16)\n",
    "    cipher = Cipher(algorithms.AES(key), modes.CBC(iv), backend=default_backend())\n",
    "    encryptor = cipher.encryptor()\n",
    "    ciphertext = encryptor.update(pad(text.encode(), AES.block_size)) + encryptor.finalize()\n",
    "    return base64.b64encode(iv + ciphertext).decode()\n",
    "\n",
    "def decrypt_cryptography(ciphertext_b64, key):\n",
    "    ciphertext = base64.b64decode(ciphertext_b64)\n",
    "    iv = ciphertext[:16]\n",
    "    cipher = Cipher(algorithms.AES(key), modes.CBC(iv), backend=default_backend())\n",
    "    decryptor = cipher.decryptor()\n",
    "    plaintext = unpad(decryptor.update(ciphertext[16:]) + decryptor.finalize(), AES.block_size)\n",
    "    return plaintext.decode()\n"
   ]
  },
  {
   "cell_type": "markdown",
   "metadata": {
    "id": "E-vFmF5tpJF_"
   },
   "source": [
    "## Execução das funções passando as frases do array"
   ]
  },
  {
   "cell_type": "code",
   "execution_count": null,
   "metadata": {
    "id": "j-PJ8JlMq9NK"
   },
   "outputs": [],
   "source": [
    "#  Processar cada item da lista\n",
    "for item in itens:\n",
    "    encrypted_py = encrypt_pycryptodome(item, aes_key)\n",
    "    decrypted_py = decrypt_pycryptodome(encrypted_py, aes_key)\n",
    "\n",
    "    encrypted_cr = encrypt_cryptography(item, aes_key)\n",
    "    decrypted_cr = decrypt_cryptography(encrypted_cr, aes_key)\n",
    "\n",
    "    print(\"Texto Original:\", item)\n",
    "    print(\"PyCryptodome:---------------------------------------------------\")\n",
    "    print(\"Criptografado:\", encrypted_py)\n",
    "    print(\"Descriptografado:\", decrypted_py + \"\\n\")\n",
    "\n",
    "    print(\"Cryptography:---------------------------------------------------\")\n",
    "    print(\"Criptografado:\", encrypted_cr)\n",
    "    print(\"Descriptografado:\", decrypted_cr + \"\\n\")"
   ]
  }
 ],
 "metadata": {
  "colab": {
   "authorship_tag": "ABX9TyMw1G0SYE9NF41x+3uYpTRk",
   "provenance": []
  },
  "kernelspec": {
   "display_name": "Python 3",
   "name": "python3"
  },
  "language_info": {
   "name": "python"
  }
 },
 "nbformat": 4,
 "nbformat_minor": 0
}
